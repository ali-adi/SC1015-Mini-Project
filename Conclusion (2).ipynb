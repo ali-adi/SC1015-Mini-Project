{
 "cells": [
  {
   "cell_type": "markdown",
   "id": "80407cf7",
   "metadata": {},
   "source": [
    "\n",
    "\n",
    "# CONCLUSION\n"
   ]
  },
  {
   "cell_type": "markdown",
   "id": "3dd71b1a",
   "metadata": {},
   "source": [
    "> - Foundation and ground floor type are  the most important features in predicting damage grade\n",
    "> - We found that only  9.64% building that has low Damage level, the rest is 56.89% building has Medium Damage level, and 33.47% building has High Damage level\n",
    "> - The best model performance goes to the Extreme Gradient Boosting (XGB) Model\n",
    "> - Models may help hotel developers to reconstruct after the earthquake and know the most important factors which lead to earthquake stability\n",
    "> - Not guaranteedly accurate, there is limitation due to the lack of knowledge and other important thing that we might be not aware of to take into account\n",
    "\n"
   ]
  },
  {
   "cell_type": "markdown",
   "id": "5be1742a",
   "metadata": {},
   "source": [
    "# END"
   ]
  }
 ],
 "metadata": {
  "kernelspec": {
   "display_name": "Python 3 (ipykernel)",
   "language": "python",
   "name": "python3"
  },
  "language_info": {
   "codemirror_mode": {
    "name": "ipython",
    "version": 3
   },
   "file_extension": ".py",
   "mimetype": "text/x-python",
   "name": "python",
   "nbconvert_exporter": "python",
   "pygments_lexer": "ipython3",
   "version": "3.9.13"
  }
 },
 "nbformat": 4,
 "nbformat_minor": 5
}
